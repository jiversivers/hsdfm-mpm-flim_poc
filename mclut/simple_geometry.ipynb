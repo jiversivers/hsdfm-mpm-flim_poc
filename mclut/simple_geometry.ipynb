{
 "cells": [
  {
   "cell_type": "code",
   "id": "initial_id",
   "metadata": {
    "collapsed": true,
    "ExecuteTime": {
     "end_time": "2025-06-18T18:24:44.365677Z",
     "start_time": "2025-06-18T18:24:44.362220Z"
    }
   },
   "source": [
    "from photon_canon.lut import generate_lut\n",
    "from photon_canon.optics import Medium, Detector, Illumination, System\n",
    "import numpy as np\n",
    "\n",
    "def source(n: int) -> tuple[np.ndarray, np.ndarray]:\n",
    "    return (\n",
    "        np.repeat(np.array((0, 0, 0))[np.newaxis, ...], n, axis=0),\n",
    "        np.repeat(np.array((0, 0, 1))[np.newaxis, ...], n, axis=0),\n",
    "    )\n",
    "\n",
    "def detector(x, y, mu_z=None):\n",
    "    r = x\n",
    "    dx = 0.0225  # cm\n",
    "    dd = 0.0022  # cm\n",
    "    if dx - dd / 2 < r < dx + dd / 2:\n",
    "        return True\n",
    "    else:\n",
    "        return False\n"
   ],
   "outputs": [],
   "execution_count": 2
  },
  {
   "metadata": {
    "ExecuteTime": {
     "end_time": "2025-06-18T18:24:44.378773Z",
     "start_time": "2025-06-18T18:24:44.375330Z"
    }
   },
   "cell_type": "code",
   "source": [
    "syringe_top = Medium(n=1.49, mu_s=0.039, mu_a=0.005, g=0.9)\n",
    "phantom = Medium(n=1.4, mu_s=0, mu_a=0, g=0.8)\n",
    "syringe_bottom = syringe_top\n",
    "phantom_system = System(\n",
    "    syringe_top, 0.13,\n",
    "    phantom, 0.45,\n",
    "    syringe_bottom, 0.13,\n",
    "    illuminator=Illumination(source),\n",
    "    detector=(Detector(detector), 0),\n",
    "    surrounding_n=1\n",
    ")"
   ],
   "id": "3e104f9081209556",
   "outputs": [
    {
     "name": "stderr",
     "output_type": "stream",
     "text": [
      "C:\\Users\\jdivers\\PycharmProjects\\photon_canon\\src\\photon_canon\\optics.py:56: UserWarning: g is automatically set to 1 where mu_s is 0. Set a non-zero scattering coefficient if a non-unity g value is necessary.\n",
      "  warnings.warn(\n"
     ]
    }
   ],
   "execution_count": 3
  },
  {
   "metadata": {
    "jupyter": {
     "is_executing": true
    },
    "ExecuteTime": {
     "start_time": "2025-06-18T18:24:44.385024Z"
    }
   },
   "cell_type": "code",
   "source": [
    "mu_s_array = np.arange(0, 7)\n",
    "mu_a_array = np.arange(0, 12)\n",
    "\n",
    "simulation_params = dict(\n",
    "    mu_s=mu_s_array,\n",
    "    mu_a=mu_a_array,\n",
    ")\n",
    "\n",
    "photon = phantom_system.beam()\n",
    "lut = generate_lut(\n",
    "    phantom_system,\n",
    "    phantom,\n",
    "    simulation_params,\n",
    "    photon,\n",
    "    pbar=True,\n",
    "    num_workers=19\n",
    ")"
   ],
   "id": "2e6e7b68fbc2cff7",
   "outputs": [
    {
     "name": "stderr",
     "output_type": "stream",
     "text": [
      "Sim ID: 90:   0%|          | 0/84 [00:00<?, ?it/s]"
     ]
    }
   ],
   "execution_count": null
  },
  {
   "metadata": {
    "ExecuteTime": {
     "end_time": "2025-06-18T18:29:54.320800700Z",
     "start_time": "2025-06-18T18:24:34.251405Z"
    }
   },
   "cell_type": "code",
   "source": "",
   "id": "f128bc4838e92f53",
   "outputs": [],
   "execution_count": null
  }
 ],
 "metadata": {
  "kernelspec": {
   "display_name": "Python 3",
   "language": "python",
   "name": "python3"
  },
  "language_info": {
   "codemirror_mode": {
    "name": "ipython",
    "version": 2
   },
   "file_extension": ".py",
   "mimetype": "text/x-python",
   "name": "python",
   "nbconvert_exporter": "python",
   "pygments_lexer": "ipython2",
   "version": "2.7.6"
  }
 },
 "nbformat": 4,
 "nbformat_minor": 5
}
