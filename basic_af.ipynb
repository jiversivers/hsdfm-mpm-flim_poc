{
 "cells": [
  {
   "cell_type": "code",
   "id": "5f691463d9ff65bd",
   "metadata": {
    "ExecuteTime": {
     "end_time": "2025-05-06T08:09:46.669414Z",
     "start_time": "2025-05-06T08:09:45.282845Z"
    }
   },
   "source": [
    "import numpy as np\n",
    "from hsdfmpm.hsdfm.utils import find_cycles\n",
    "from hsdfmpm.utils import truncate_colormap\n",
    "from hsdfmpm.mpm import AutofluorescenceImage\n",
    "from hsdfmpm.mpm import OpticalRedoxRatio\n",
    "import warnings\n",
    "from matplotlib import pyplot as plt\n",
    "from matplotlib.colors import Normalize\n",
    "from pathlib import Path\n",
    "import imageio.v3 as iio"
   ],
   "outputs": [],
   "execution_count": 1
  },
  {
   "metadata": {},
   "cell_type": "markdown",
   "source": [
    "# MPM Processing\n",
    "1. Autofluorescence Intensity\n",
    "    1. Load images, metadata, and power data\n",
    "    2. Normalize to equivalent fluoresceine\n",
    "    3. Calculate redox ratio\n",
    "    4. Create color fig\n",
    "    5. Save color ORR figure and map\n",
    "    6. Dump model"
   ],
   "id": "40481c11129e1208"
  },
  {
   "metadata": {
    "ExecuteTime": {
     "end_time": "2025-05-06T08:09:46.675617Z",
     "start_time": "2025-05-06T08:09:46.673121Z"
    }
   },
   "cell_type": "code",
   "source": [
    "# Dir stuff\n",
    "root_dir = Path(r'E:\\new df\\POC Study')\n",
    "processed = root_dir / 'Processed'\n",
    "processed.mkdir(exist_ok=True)\n",
    "\n",
    "# Point to power files\n",
    "power_file_dir = root_dir / 'LaserPower'"
   ],
   "id": "7fa819f95212096e",
   "outputs": [],
   "execution_count": 2
  },
  {
   "metadata": {
    "ExecuteTime": {
     "end_time": "2025-05-06T08:09:46.853501Z",
     "start_time": "2025-05-06T08:09:46.795037Z"
    }
   },
   "cell_type": "code",
   "source": [
    "# Get paths\n",
    "raw_paths = find_cycles(root_dir / 'Animals', search_term='.xml')\n",
    "flim_paths = find_cycles(root_dir / 'Animals', search_term='.sdt')\n",
    "fov_paths = np.unique([path.parent for path in raw_paths])"
   ],
   "id": "8aa514d8c3e27e88",
   "outputs": [],
   "execution_count": 3
  },
  {
   "metadata": {
    "ExecuteTime": {
     "end_time": "2025-05-06T08:11:20.382975Z",
     "start_time": "2025-05-06T08:09:46.858605Z"
    }
   },
   "cell_type": "code",
   "source": [
    "from datetime import datetime\n",
    "import pandas as pd\n",
    "\n",
    "output = []\n",
    "for path in fov_paths:\n",
    "    ex755_path = [p for p in path.glob('*755*') if not p in flim_paths]\n",
    "    ex855_path = [p for p in path.glob('*855*') if not p in flim_paths]\n",
    "    if not (ex755_path and ex855_path):\n",
    "        warnings.warn(f'No 755 or 855 found for {path}', category=RuntimeWarning, stacklevel=2)\n",
    "        continue\n",
    "    if len(ex755_path) > 1 or len(ex855_path) > 1:\n",
    "        warnings.warn(f'Multiple 755 or 855 found for {path}', category=RuntimeWarning, stacklevel=2)\n",
    "        continue\n",
    "\n",
    "    # Parse sample categories\n",
    "    animal, date, oxygen, fov = path.parts[-4:]\n",
    "    date = datetime.strptime(date, '%m%d%Y').date()\n",
    "\n",
    "    # Load images\n",
    "    try:\n",
    "        orr = OpticalRedoxRatio(ex755=ex755_path[0], ex855=ex855_path[0], power_file_path=power_file_dir)\n",
    "    except FileNotFoundError:\n",
    "        warnings.warn(f'No power file found for {path}', category=RuntimeWarning, stacklevel=2)\n",
    "        continue\n",
    "    cmap = truncate_colormap('jet', cmin=0.13, cmax=0.88)\n",
    "    cmin, cmax = np.mean(orr.map) + np.array([-2, 2]) * np.std(orr.map)\n",
    "    color_orr, cmap = orr.colorize(cmap=cmap, cmin=cmin, cmax=cmax)\n",
    "    fig = plt.figure(figsize=(10, 10))\n",
    "    plt.imshow(color_orr, cmap=cmap)\n",
    "    ax = plt.gca()\n",
    "    ax.set_title(f'{animal} {date} {fov}')\n",
    "    ax.axis('off')\n",
    "    sm = plt.cm.ScalarMappable(norm=Normalize(vmin=cmin, vmax=cmax), cmap=cmap)\n",
    "    plt.colorbar(sm, ax=ax)\n",
    "    plt.tight_layout()\n",
    "\n",
    "    # Save output statistics\n",
    "    output.append([animal, date, oxygen, fov, np.nanmean(orr.map), np.nanstd(orr.map), str(path)])\n",
    "\n",
    "    # Save output images\n",
    "    out_path = Path(processed, animal, oxygen, fov)\n",
    "    out_path.mkdir(exist_ok=True, parents=True)\n",
    "    iio.imwrite(out_path / 'orr_map.tiff', orr.map)\n",
    "    fig.savefig(out_path / 'color_orr.png')\n",
    "    plt.close(fig)\n",
    "\n",
    "df = pd.DataFrame(output, columns=['Animal', 'Date', 'Oxygen', 'FOV', 'Mean ORR', 'StDev ORR', 'Full data path'])\n",
    "df.to_csv(processed / 'mpm_af_output.csv')"
   ],
   "id": "f591228bd2a78d7",
   "outputs": [],
   "execution_count": 4
  }
 ],
 "metadata": {
  "kernelspec": {
   "display_name": "Python 3",
   "language": "python",
   "name": "python3"
  },
  "language_info": {
   "codemirror_mode": {
    "name": "ipython",
    "version": 2
   },
   "file_extension": ".py",
   "mimetype": "text/x-python",
   "name": "python",
   "nbconvert_exporter": "python",
   "pygments_lexer": "ipython2",
   "version": "2.7.6"
  }
 },
 "nbformat": 4,
 "nbformat_minor": 5
}
