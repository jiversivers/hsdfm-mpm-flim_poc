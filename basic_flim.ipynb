{
 "cells": [
  {
   "cell_type": "code",
   "id": "initial_id",
   "metadata": {
    "collapsed": true,
    "ExecuteTime": {
     "end_time": "2025-05-06T08:27:37.840993Z",
     "start_time": "2025-05-06T08:27:37.837444Z"
    }
   },
   "source": [
    "import numpy as np\n",
    "from hsdfmpm.mpm import InstrumentResponseFunction, LifetimeImage\n",
    "from hsdfmpm.hsdfm.utils import find_cycles\n",
    "from matplotlib import pyplot as plt\n",
    "from matplotlib.colors import Normalize\n",
    "from hsdfmpm.utils import truncate_colormap, colorize\n",
    "from pathlib import Path\n",
    "import imageio.v3 as iio\n",
    "from datetime import datetime\n",
    "import pandas as pd"
   ],
   "outputs": [],
   "execution_count": 6
  },
  {
   "metadata": {},
   "cell_type": "markdown",
   "source": [
    "# MPM Processing\n",
    "2. Lifetime\n",
    "    1. Load IRF decay and calibrate\n",
    "    2. Load decay\n",
    "    3. Calculate phasor coordinates\n",
    "    4. Fit line to phasor\n",
    "    5. Project all coords to line\n",
    "    6. Calculate $\\alpha_2\\%$\n",
    "    7. Save phasor plot\n",
    "    8. Save map of $\\alpha_2\\%$\n",
    "    9. Dump model"
   ],
   "id": "55bc04d6972d75a5"
  },
  {
   "metadata": {
    "ExecuteTime": {
     "end_time": "2025-05-06T08:27:37.891700Z",
     "start_time": "2025-05-06T08:27:37.845637Z"
    }
   },
   "cell_type": "code",
   "source": [
    "# Dir stuff\n",
    "root_dir = Path(r'E:\\new df\\POC Study')\n",
    "processed = root_dir / 'Processed'\n",
    "processed.mkdir(exist_ok=True)\n",
    "\n",
    "# Get paths\n",
    "flim_paths = find_cycles(root_dir / 'Animals', search_term='.sdt')"
   ],
   "id": "ff62b2f17b879b3f",
   "outputs": [],
   "execution_count": 7
  },
  {
   "metadata": {
    "ExecuteTime": {
     "end_time": "2025-05-06T08:27:38.509471Z",
     "start_time": "2025-05-06T08:27:38.506896Z"
    }
   },
   "cell_type": "code",
   "source": "flim_paths[0]",
   "id": "58dc5ed0c402761a",
   "outputs": [
    {
     "data": {
      "text/plain": [
       "WindowsPath('E:/new df/POC Study/Animals/1675NT/03292025/10/fov1/fov1_flim_755-077')"
      ]
     },
     "execution_count": 8,
     "metadata": {},
     "output_type": "execute_result"
    }
   ],
   "execution_count": 8
  },
  {
   "metadata": {
    "ExecuteTime": {
     "end_time": "2025-05-06T08:27:39.364240Z",
     "start_time": "2025-05-06T08:27:39.282668Z"
    }
   },
   "cell_type": "code",
   "source": [
    "# This creates the IRF model, then stores/updates it in the .hsdfm data to be reused.\n",
    "InstrumentResponseFunction.load(\n",
    "    path=r'\\\\deckard\\bmeg\\Rajaram-Lab\\Ivers,Jesse\\Codes\\matlab\\Toolbox\\ImageProcessing\\MPM_Processing\\FLIM Code\\IRF Files\\Raw\\Upright_I_IRF.sdt',\n",
    "    reference_lifetime=0, channels=0\n",
    ").store()"
   ],
   "id": "bcc38f626267486",
   "outputs": [],
   "execution_count": 9
  },
  {
   "metadata": {
    "jupyter": {
     "is_executing": true
    },
    "ExecuteTime": {
     "start_time": "2025-05-06T08:27:40.133196Z"
    }
   },
   "cell_type": "code",
   "source": [
    "output = []\n",
    "for path in flim_paths:\n",
    "    # Parse sample categories\n",
    "    animal, date, oxygen, fov = path.parts[-5:-1]\n",
    "    date = datetime.strptime(date, '%m%d%Y').date()\n",
    "\n",
    "    # Load decay and irf\n",
    "    decay = LifetimeImage(image_path=path, channels=0)\n",
    "    decay.load_irf()\n",
    "\n",
    "    # Calculate phasor coords and fit-line endpoints\n",
    "    g, s = decay.phasor_coordinates(threshold=5, median_filter_count=1, k_size=3, correction=True)\n",
    "    alphas, taum, tau = decay.fit_for_lifetime_approximations(median_filter_count=1, k_size=5)\n",
    "    a2_fraction = alphas[1] / (alphas[0] + alphas[1])\n",
    "\n",
    "    cmap = truncate_colormap('jet', cmin=0.13, cmax=0.88)\n",
    "    cmin, cmax = np.mean(a2_fraction) + np.array([-2, 2]) * np.std(a2_fraction)\n",
    "    color_a2, cmap = colorize(a2_fraction, np.nansum(decay.decay, axis=-1).squeeze(), cmap=cmap, cmin=cmin, cmax=cmax)\n",
    "    fig = plt.figure(figsize=(10, 10))\n",
    "    plt.imshow(color_a2, cmap=cmap)\n",
    "    ax = plt.gca()\n",
    "    ax.set_title(f'{animal} {date} {oxygen} {fov}')\n",
    "    ax.axis('off')\n",
    "    sm = plt.cm.ScalarMappable(norm=Normalize(vmin=cmin, vmax=cmax), cmap=cmap)\n",
    "    plt.colorbar(sm, ax=ax)\n",
    "    plt.tight_layout()\n",
    "\n",
    "    # Save output statistics\n",
    "    output.append([animal, date, oxygen, fov, np.nanmean(a2_fraction), np.nanstd(a2_fraction), str(path)])\n",
    "\n",
    "    # Save output images\n",
    "    out_path = Path(processed, animal, datetime.strftime(date, '%m%d%Y'), oxygen, fov)\n",
    "    out_path.mkdir(exist_ok=True, parents=True)\n",
    "    iio.imwrite(out_path / 'a2_fraction.tiff', a2_fraction)\n",
    "    fig.savefig(out_path / 'color_a2_fraction.png')\n",
    "    plt.close(fig)\n",
    "\n",
    "df = pd.DataFrame(output, columns=['Animal', 'Date', 'Oxygen', 'FOV', 'Mean A2', 'StDev A2', 'Full data path'])\n",
    "df.to_csv(processed / 'mpm_flim_output.csv')"
   ],
   "id": "c9d11a50dafcfef1",
   "outputs": [],
   "execution_count": null
  }
 ],
 "metadata": {
  "kernelspec": {
   "display_name": "Python 3",
   "language": "python",
   "name": "python3"
  },
  "language_info": {
   "codemirror_mode": {
    "name": "ipython",
    "version": 2
   },
   "file_extension": ".py",
   "mimetype": "text/x-python",
   "name": "python",
   "nbconvert_exporter": "python",
   "pygments_lexer": "ipython2",
   "version": "2.7.6"
  }
 },
 "nbformat": 4,
 "nbformat_minor": 5
}
