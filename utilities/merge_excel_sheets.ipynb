{
 "cells": [
  {
   "cell_type": "code",
   "id": "41104c15034af765",
   "metadata": {
    "ExecuteTime": {
     "end_time": "2025-07-02T11:55:28.380740Z",
     "start_time": "2025-07-02T11:55:28.377404Z"
    }
   },
   "source": [
    "import pandas as pd\n",
    "from functools import reduce\n",
    "\n",
    "# --- config ------------------------------------------------------\n",
    "file_in  = r\"D:\\Jesse\\Animal POC\\Animals\\Processed\\combined_data.xlsx\"\n",
    "sheet_key_cols = [\"Animal\", \"Date\", \"Oxygen\", \"FOV\"]  # <-- edit\n",
    "how_join = \"outer\"            # \"inner\" keeps only perfect overlaps\n",
    "file_out = r\"D:\\Jesse\\Animal POC\\Animals\\Processed\\merged_data.xlsx\"\n",
    "# ----------------------------------------------------------------"
   ],
   "outputs": [],
   "execution_count": 24
  },
  {
   "metadata": {
    "ExecuteTime": {
     "end_time": "2025-07-02T11:55:28.861118Z",
     "start_time": "2025-07-02T11:55:28.818849Z"
    }
   },
   "cell_type": "code",
   "source": [
    "# Read every sheet into a dict of DataFrames\n",
    "dfs = pd.read_excel(file_in, sheet_name=None)\n",
    "del dfs[\"merged\"]"
   ],
   "id": "28f91a18266a835b",
   "outputs": [],
   "execution_count": 25
  },
  {
   "metadata": {
    "ExecuteTime": {
     "end_time": "2025-07-02T11:56:46.820553Z",
     "start_time": "2025-07-02T11:56:46.812522Z"
    }
   },
   "cell_type": "code",
   "source": [
    "# Ensure the key columns are categorical everywhere\n",
    "for df in dfs.values():\n",
    "    for col in sheet_key_cols:\n",
    "        df[col] = df[col].astype(\"category\")\n",
    "    df.drop(\"Unnamed: 0\", axis=1, inplace=True)"
   ],
   "id": "9e690f391623aa3e",
   "outputs": [],
   "execution_count": 29
  },
  {
   "metadata": {
    "collapsed": true,
    "ExecuteTime": {
     "end_time": "2025-07-02T11:57:20.249397Z",
     "start_time": "2025-07-02T11:57:20.142986Z"
    }
   },
   "cell_type": "code",
   "source": [
    "# Reduce-style merge: left ⟶ right ⟶ right …\n",
    "merged = reduce(\n",
    "    lambda left, right: pd.merge(left, right, on=sheet_key_cols, how=how_join),\n",
    "    dfs.values()\n",
    ")\n",
    "\n",
    "merged.to_excel(file_out, index=False)\n",
    "print(f\"Done → {file_out} with {merged.shape[0]} rows and {merged.shape[1]} cols\")\n"
   ],
   "id": "initial_id",
   "outputs": [
    {
     "name": "stdout",
     "output_type": "stream",
     "text": [
      "Done → D:\\Jesse\\Animal POC\\Animals\\Processed\\merged_data.xlsx with 69 rows and 31 cols\n"
     ]
    }
   ],
   "execution_count": 31
  }
 ],
 "metadata": {
  "kernelspec": {
   "display_name": "Python 3",
   "language": "python",
   "name": "python3"
  },
  "language_info": {
   "codemirror_mode": {
    "name": "ipython",
    "version": 2
   },
   "file_extension": ".py",
   "mimetype": "text/x-python",
   "name": "python",
   "nbconvert_exporter": "python",
   "pygments_lexer": "ipython2",
   "version": "2.7.6"
  }
 },
 "nbformat": 4,
 "nbformat_minor": 5
}
