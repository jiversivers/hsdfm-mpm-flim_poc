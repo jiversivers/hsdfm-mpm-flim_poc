{
 "cells": [
  {
   "cell_type": "code",
   "execution_count": null,
   "id": "initial_id",
   "metadata": {
    "collapsed": true
   },
   "outputs": [],
   "source": [
    "rep_dirs = [\n",
    "    r\"D:\\Jesse\\Animal POC\\Animals\\Processed\\1782NT\\06052025\\10\\fov6\",\n",
    "    r\"D:\\Jesse\\Animal POC\\Animals\\Processed\\1782NT\\06052025\\21\\fov5\",\n",
    "    r\"D:\\Jesse\\Animal POC\\Animals\\Processed\\1782NT\\06062025\\100\\fov3\"\n",
    "]\n",
    "\n",
    "image_types = [\n",
    "    \"orr\",\n",
    "    \"dtv\",\n",
    "    \"a2_fraction\",\n",
    "    \"\"\n",
    "]"
   ]
  }
 ],
 "metadata": {
  "kernelspec": {
   "display_name": "Python 3",
   "language": "python",
   "name": "python3"
  },
  "language_info": {
   "codemirror_mode": {
    "name": "ipython",
    "version": 2
   },
   "file_extension": ".py",
   "mimetype": "text/x-python",
   "name": "python",
   "nbconvert_exporter": "python",
   "pygments_lexer": "ipython2",
   "version": "2.7.6"
  }
 },
 "nbformat": 4,
 "nbformat_minor": 5
}
