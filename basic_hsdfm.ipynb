{
 "cells": [
  {
   "cell_type": "code",
   "id": "initial_id",
   "metadata": {
    "collapsed": true,
    "ExecuteTime": {
     "end_time": "2025-05-06T06:14:40.474100Z",
     "start_time": "2025-05-06T06:14:40.469412Z"
    }
   },
   "source": [
    "import numpy as np\n",
    "import tqdm\n",
    "from hsdfmpm.hsdfm.utils import find_cycles, gabor_filter_bank, leastsq_reflectance, mask_by_k_clustering\n",
    "from hsdfmpm.utils import apply_kernel_bank\n",
    "import pandas as pd\n",
    "from hsdfmpm.hsdfm import HyperspectralImage, MergedHyperspectralImage\n",
    "from pathlib import Path\n",
    "\n",
    "from photon_canon.contrib.bio import hemoglobin_mus, fit_hemoglobin_model\n",
    "from photon_canon.lut import LUT\n",
    "from photon_canon.contrib.bio import wl, eps\n",
    "import cv2\n",
    "import imageio.v3 as iio\n",
    "from datetime import datetime, timedelta\n",
    "import warnings"
   ],
   "outputs": [],
   "execution_count": 17
  },
  {
   "metadata": {},
   "cell_type": "markdown",
   "source": [
    "# HSDFM Processing\n",
    "1. Load images and metadata\n",
    "2. Normalize to integration time\n",
    "3. Normalize to standard and background\n",
    "4. Perform least-squares fit\n",
    "5. Apply Gabor filter\n",
    "6. Apply adaptive threshold to acquire mask\n",
    "7. Apply mask to hyperstack\n",
    "8. Fit masked hyperstack with MCLUT"
   ],
   "id": "bcacc6c8297a8e43"
  },
  {
   "metadata": {
    "ExecuteTime": {
     "end_time": "2025-05-06T06:14:46.474842Z",
     "start_time": "2025-05-06T06:14:43.478957Z"
    }
   },
   "cell_type": "code",
   "source": [
    "# Dir stuff\n",
    "root = r'E:\\new df\\POC Study'\n",
    "processed = Path(root, 'Processed')\n",
    "processed.mkdir(exist_ok=True)\n",
    "\n",
    "# Find raw data\n",
    "cycles = find_cycles(root)\n",
    "\n",
    "# Load normalization data\n",
    "standard_paths = find_cycles(r'E:\\new df\\POC Study\\Standards')\n",
    "background = MergedHyperspectralImage(image_paths=find_cycles(r'E:\\new df\\POC Study\\Background\\dark_04282025'))\n",
    "background.normalize()"
   ],
   "id": "8935a156d48c99e2",
   "outputs": [
    {
     "data": {
      "text/plain": [
       "[None, None, None]"
      ]
     },
     "execution_count": 18,
     "metadata": {},
     "output_type": "execute_result"
    }
   ],
   "execution_count": 18
  },
  {
   "metadata": {
    "ExecuteTime": {
     "end_time": "2025-05-06T06:14:46.480943Z",
     "start_time": "2025-05-06T06:14:46.478432Z"
    }
   },
   "cell_type": "code",
   "source": [
    "def parse_categorical(cycle):\n",
    "    # Prepare categorical data\n",
    "    animal = cycle.parts[4]\n",
    "    date = datetime.strptime(cycle.parts[5], '%m%d%Y')\n",
    "    oxygen = cycle.parts[6]\n",
    "    fov_polarization = cycle.parts[7].split('_')\n",
    "    if len(fov_polarization) == 1:\n",
    "        fov = fov_polarization[0]\n",
    "        polarized = False\n",
    "    else:\n",
    "        fov = fov_polarization[0]\n",
    "        polarized = fov_polarization[1] == 'polarized'\n",
    "    return animal, date, oxygen, fov, polarized"
   ],
   "id": "85d60611c3a94595",
   "outputs": [],
   "execution_count": 19
  },
  {
   "metadata": {
    "ExecuteTime": {
     "end_time": "2025-05-06T06:14:50.102314Z",
     "start_time": "2025-05-06T06:14:50.098332Z"
    }
   },
   "cell_type": "code",
   "source": [
    "def find_dated_dir(date, paths):\n",
    "    matches = []\n",
    "    for path in paths:\n",
    "        if date.strftime('%m%d%Y') in str(path):\n",
    "            matches.append(path)\n",
    "    if not matches:\n",
    "        warnings.warn(f'No paths found for date {date}. Auto-incrementing ahead one day', category=RuntimeWarning, stacklevel=2)\n",
    "        date += timedelta(days=1)\n",
    "        return find_dated_dir(date, paths)\n",
    "    return matches"
   ],
   "id": "c7131f441b35e01b",
   "outputs": [],
   "execution_count": 20
  },
  {
   "metadata": {
    "ExecuteTime": {
     "end_time": "2025-05-06T06:14:56.891927Z",
     "start_time": "2025-05-06T06:14:56.888956Z"
    }
   },
   "cell_type": "code",
   "source": [
    "lut = LUT(dimensions=['mu_s', 'mu_a'], scale=50000)\n",
    "def model(wavelength, a, b, t, s):\n",
    "    mu_s, mu_a, _ = hemoglobin_mus(a, b, t, s, wavelength)\n",
    "    r = lut(mu_s, mu_a, extrapolate=True)\n",
    "    return r"
   ],
   "id": "4e96ee10540d9fb7",
   "outputs": [],
   "execution_count": 21
  },
  {
   "metadata": {
    "jupyter": {
     "is_executing": true
    },
    "ExecuteTime": {
     "start_time": "2025-05-06T06:14:56.905922Z"
    }
   },
   "cell_type": "code",
   "source": [
    "# Prep reusable parts\n",
    "f = np.geomspace(0.01, 1, 16)\n",
    "gabor_bank = gabor_filter_bank(frequency=f, sigma_x=4/f, sigma_y=1/f)\n",
    "\n",
    "output = []\n",
    "\n",
    "for cycle in tqdm.tqdm(cycles):\n",
    "    # Parse categorical data\n",
    "    animal, date, oxygen, fov, polarization = parse_categorical(cycle)\n",
    "\n",
    "    # Load standard\n",
    "    standard_path = find_dated_dir(date, standard_paths)\n",
    "    if polarization:\n",
    "        standard_path = [path for path in standard_path if 'polar' in str(path)]\n",
    "    else:\n",
    "        standard_path = [path for path in standard_path if 'polar' not in str(path)]\n",
    "    standard = MergedHyperspectralImage(image_paths=find_dated_dir(date, standard_paths))\n",
    "    standard.normalize()\n",
    "\n",
    "    # Load cycle\n",
    "    hs = HyperspectralImage(image_path=cycle, standard=standard, background=background)\n",
    "\n",
    "    # Normalize (automatically normalizes to integration time then the standard/background\n",
    "    hs.normalize()\n",
    "\n",
    "    # Resize to 256x256\n",
    "    hs.bin(bin_factor=2048 // 256)\n",
    "\n",
    "\n",
    "    # Get variables for naive fit\n",
    "    selected = np.isin(wl, hs.metadata['Wavelength'])\n",
    "    e = np.log(10) * eps[:, selected] / 64500\n",
    "\n",
    "    # Fit the image with naive lsq and apply gabor bank\n",
    "    naive_fit = leastsq_reflectance(hs.image, e)\n",
    "    hb_index = naive_fit[0] + naive_fit[1]\n",
    "    gabor_response = apply_kernel_bank(hb_index, gabor_bank)\n",
    "\n",
    "    # Create and mask\n",
    "    mask = cv2.adaptiveThreshold((gabor_response / gabor_response.max() * 255).astype(np.uint8), 255, cv2.ADAPTIVE_THRESH_MEAN_C, cv2.THRESH_BINARY, 15, 0)\n",
    "    hs.apply_mask(mask)\n",
    "\n",
    "    # Fit image\n",
    "    a, b, thb, so2 = fit_hemoglobin_model(model, hs.metadata['Wavelength'], hs.image, guess=[1, 1, 1, 1], bounds=[(0, 0, 0, 0), (np.inf, np.inf, np.inf, 1)])\n",
    "    r_exp = model(hs.metadata['Wavelength'], a, b, thb, so2)\n",
    "    chi_sq = ( 1 / (np.count_nonzero(~np.isnan(hs, axis=0)) - 4)) * np.nansum(((hs - r_exp) ** 2) / np.nanvar(hs, axis=0, keepdims=True), axis=0)\n",
    "\n",
    "    # Update output\n",
    "    output.append([animal, date, oxygen, fov, polarization, np.mean(a[mask]), np.mean(b[mask]), np.mean(thb[mask]), np.mean(so2[mask])])\n",
    "\n",
    "    out_path = Path(animal, oxygen, fov, f'{'polarized' if polarization else 'nonpolarized'}')\n",
    "    iio.imwrite(out_path / 'scatter_a.tiff', a)\n",
    "    iio.imwrite(out_path / 'scatter_b.tiff', b)\n",
    "    iio.imwrite(out_path / 'thb.tiff', thb)\n",
    "    iio.imwrite(out_path / 'so2.tiff', so2)\n",
    "    iio.imwrite(out_path / 'mask.tiff', mask)\n",
    "    iio.imwrite(out_path / 'hsdfm_chi_sq.tiff', chi_sq)\n",
    "    with open(out_path / 'hsdfm_img_model.json', 'w') as f:\n",
    "        f.write(hs.model.dumps_json())\n",
    "\n",
    "\n",
    "df = pd.DataFrame(output, columns=['Animal', 'Date', 'Oxygen', 'FOV', 'Polarization', 'Mean THb', 'Mean sO2'])\n",
    "df.to_csv(processed / 'hsdfm_output.csv')"
   ],
   "id": "186d83e26783c5ef",
   "outputs": [
    {
     "name": "stderr",
     "output_type": "stream",
     "text": [
      "  0%|          | 0/244 [00:00<?, ?it/s]"
     ]
    },
    {
     "data": {
      "text/plain": [
       "  0%|          | 0/192 [00:00<?, ?it/s]"
      ],
      "application/vnd.jupyter.widget-view+json": {
       "version_major": 2,
       "version_minor": 0,
       "model_id": "099cb786c2af4e2ba35fbb9dca1bc98e"
      }
     },
     "metadata": {},
     "output_type": "display_data"
    },
    {
     "data": {
      "text/plain": [
       "  0%|          | 0/65536 [00:00<?, ?it/s]"
      ],
      "application/vnd.jupyter.widget-view+json": {
       "version_major": 2,
       "version_minor": 0,
       "model_id": "564652335cad45449b984cb62c42fb16"
      }
     },
     "metadata": {},
     "output_type": "display_data"
    },
    {
     "name": "stderr",
     "output_type": "stream",
     "text": [
      "C:\\Users\\jdivers\\PycharmProjects\\photon_canon\\src\\photon_canon\\contrib\\bio.py:162: UserWarning: Optimal parameters not found: The maximum number of function evaluations is exceeded.\n",
      "  warnings.warn(str(e))\n"
     ]
    }
   ],
   "execution_count": null
  }
 ],
 "metadata": {
  "kernelspec": {
   "display_name": "Python 3",
   "language": "python",
   "name": "python3"
  },
  "language_info": {
   "codemirror_mode": {
    "name": "ipython",
    "version": 2
   },
   "file_extension": ".py",
   "mimetype": "text/x-python",
   "name": "python",
   "nbconvert_exporter": "python",
   "pygments_lexer": "ipython2",
   "version": "2.7.6"
  }
 },
 "nbformat": 4,
 "nbformat_minor": 5
}
