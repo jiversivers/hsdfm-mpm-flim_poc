{
 "cells": [
  {
   "cell_type": "code",
   "id": "initial_id",
   "metadata": {
    "collapsed": true,
    "ExecuteTime": {
     "end_time": "2025-05-06T08:00:33.819137Z",
     "start_time": "2025-05-06T08:00:33.815744Z"
    }
   },
   "source": [
    "import matplotlib.pyplot as plt\n",
    "import numpy as np\n",
    "import tqdm\n",
    "from hsdfmpm.hsdfm.utils import find_cycles, gabor_filter_bank, leastsq_reflectance, mask_by_k_clustering\n",
    "from hsdfmpm.utils import apply_kernel_bank\n",
    "import pandas as pd\n",
    "from hsdfmpm.hsdfm import HyperspectralImage, MergedHyperspectralImage\n",
    "from pathlib import Path\n",
    "\n",
    "from photon_canon.contrib.bio import hemoglobin_mus, fit_hemoglobin_model\n",
    "from photon_canon.lut import LUT\n",
    "from photon_canon.contrib.bio import wl, eps\n",
    "import cv2\n",
    "import imageio.v3 as iio\n",
    "from datetime import datetime, timedelta\n",
    "import warnings"
   ],
   "outputs": [],
   "execution_count": 101
  },
  {
   "metadata": {},
   "cell_type": "markdown",
   "source": [
    "# HSDFM Processing\n",
    "1. Load images and metadata\n",
    "2. Normalize to integration time\n",
    "3. Normalize to standard and background\n",
    "4. Perform least-squares fit\n",
    "5. Apply Gabor filter\n",
    "6. Apply adaptive threshold to acquire mask\n",
    "7. Apply mask to hyperstack\n",
    "8. Fit masked hyperstack with MCLUT"
   ],
   "id": "bcacc6c8297a8e43"
  },
  {
   "metadata": {
    "jupyter": {
     "is_executing": true
    },
    "ExecuteTime": {
     "start_time": "2025-05-06T08:00:33.830197Z"
    }
   },
   "cell_type": "code",
   "source": [
    "# Dir stuff\n",
    "root = Path(r'E:\\new df\\POC Study')\n",
    "processed = root / 'Processed'\n",
    "processed.mkdir(exist_ok=True)\n",
    "\n",
    "# Find raw data\n",
    "cycles = find_cycles(root / 'Animals')\n",
    "\n",
    "# Load normalization data\n",
    "standard_paths = find_cycles(root / 'Standards')\n",
    "background = MergedHyperspectralImage(image_paths=find_cycles(root / 'Background' / 'dark_04282025'))\n",
    "background.normalize()"
   ],
   "id": "8935a156d48c99e2",
   "outputs": [],
   "execution_count": null
  },
  {
   "metadata": {
    "ExecuteTime": {
     "end_time": "2025-05-06T06:30:47.643226Z",
     "start_time": "2025-05-06T06:30:47.638474Z"
    }
   },
   "cell_type": "code",
   "source": [
    "def parse_categorical(cycle):\n",
    "    # Prepare categorical data\n",
    "    animal = cycle.parts[4]\n",
    "    date = datetime.strptime(cycle.parts[5], '%m%d%Y')\n",
    "    oxygen = cycle.parts[6]\n",
    "    fov = cycle.parts[7]\n",
    "    polarized = 'polar' in str(cycle) and not 'unp' in str(cycle)\n",
    "    return animal, date, oxygen, fov, polarized"
   ],
   "id": "85d60611c3a94595",
   "outputs": [],
   "execution_count": 34
  },
  {
   "metadata": {
    "ExecuteTime": {
     "end_time": "2025-05-06T06:30:50.552872Z",
     "start_time": "2025-05-06T06:30:50.549894Z"
    }
   },
   "cell_type": "code",
   "source": [
    "def find_dated_dir(date, paths):\n",
    "    matches = []\n",
    "    for path in paths:\n",
    "        if date.strftime('%m%d%Y') in str(path):\n",
    "            matches.append(path)\n",
    "    if not matches:\n",
    "        warnings.warn(f'No paths found for date {date}. Auto-incrementing ahead one day', category=RuntimeWarning, stacklevel=2)\n",
    "        date += timedelta(days=1)\n",
    "        return find_dated_dir(date, paths)\n",
    "    return matches"
   ],
   "id": "c7131f441b35e01b",
   "outputs": [],
   "execution_count": 35
  },
  {
   "metadata": {
    "ExecuteTime": {
     "end_time": "2025-05-06T06:30:53.502499Z",
     "start_time": "2025-05-06T06:30:53.498366Z"
    }
   },
   "cell_type": "code",
   "source": [
    "lut = LUT(dimensions=['mu_s', 'mu_a'], scale=50000)\n",
    "def model(wavelength, a, b, t, s):\n",
    "    mu_s, mu_a, _ = hemoglobin_mus(a, b, t, s, wavelength)\n",
    "    r = lut(mu_s, mu_a, extrapolate=True)\n",
    "    return r"
   ],
   "id": "4e96ee10540d9fb7",
   "outputs": [],
   "execution_count": 36
  },
  {
   "metadata": {
    "ExecuteTime": {
     "end_time": "2025-05-06T07:47:30.863252Z",
     "start_time": "2025-05-06T07:16:35.960154Z"
    }
   },
   "cell_type": "code",
   "source": [
    "# Prep reusable parts\n",
    "f = np.geomspace(0.01, 1, 16)\n",
    "gabor_bank = gabor_filter_bank(frequency=f, sigma_x=4/f, sigma_y=1/f)\n",
    "\n",
    "output = []\n",
    "\n",
    "for cycle in tqdm.tqdm(cycles):\n",
    "    # Parse categorical data\n",
    "    animal, date, oxygen, fov, polarization = parse_categorical(cycle)\n",
    "\n",
    "    # Load standard\n",
    "    standard_path = find_dated_dir(date, standard_paths)\n",
    "    if polarization:\n",
    "        standard_path = [path for path in standard_path if 'polar' in str(path)]\n",
    "    else:\n",
    "        standard_path = [path for path in standard_path if 'polar' not in str(path)]\n",
    "    standard = MergedHyperspectralImage(image_paths=find_dated_dir(date, standard_paths))\n",
    "    standard.normalize()\n",
    "\n",
    "    # Load cycle\n",
    "    hs = HyperspectralImage(image_path=cycle, standard=standard, background=background)\n",
    "\n",
    "    # Normalize (automatically normalizes to integration time then the standard/background\n",
    "    hs.normalize()\n",
    "\n",
    "    # Resize to 128x128\n",
    "    hs.bin(bin_factor=2048 // 128)\n",
    "\n",
    "    # Get variables for naive fit\n",
    "    selected = np.isin(wl, hs.metadata['Wavelength'])\n",
    "    e = np.log(10) * eps[:, selected] / 64500\n",
    "\n",
    "    # Fit the image with naive lsq and apply gabor bank\n",
    "    naive_fit = leastsq_reflectance(hs.image, e)\n",
    "    hb_index = naive_fit[0] + naive_fit[1]\n",
    "    gabor_response = apply_kernel_bank(hb_index, gabor_bank)\n",
    "\n",
    "    # Create and mask\n",
    "    mask = cv2.adaptiveThreshold((gabor_response / gabor_response.max() * 255).astype(np.uint8), 255, cv2.ADAPTIVE_THRESH_MEAN_C, cv2.THRESH_BINARY, 15, 0)\n",
    "    mask = mask.astype(bool)\n",
    "    hs.apply_mask(mask)\n",
    "\n",
    "    # Fit image\n",
    "    a, b, thb, so2 = fit_hemoglobin_model(model, hs.metadata['Wavelength'], hs.image, guess=[1, 1, 1, 1], bounds=[(0, 0, 0, 0), (np.inf, np.inf, np.inf, 1)])\n",
    "    r_exp = np.zeros_like(hs.image)\n",
    "    for i in range(hs.image.shape[1]):\n",
    "        for j in range(hs.image.shape[2]):\n",
    "            r_exp[:, i, j] = model(hs.metadata['Wavelength'], a[i, j], b[i, j], thb[i, j], so2[i, j])\n",
    "    chi_sq = ( 1 / (np.count_nonzero(~np.isnan(hs), axis=0) - 4)) * np.nansum(((hs - r_exp) ** 2) / np.nanvar(hs, axis=0, keepdims=True), axis=0)\n",
    "\n",
    "    # Update output\n",
    "    output.append([animal, date, oxygen, fov, polarization,\n",
    "                   np.mean(a[mask]), np.mean(b[mask]), np.mean(thb[mask]), np.mean(so2[mask]), str(cycle)\n",
    "                   ])\n",
    "\n",
    "    out_path = processed / animal / oxygen / fov / f'{'polarized' if polarization else 'nonpolarized'}'\n",
    "    out_path.mkdir(exist_ok=True, parents=True)\n",
    "    iio.imwrite(out_path / 'scatter_a.tiff', a)\n",
    "    iio.imwrite(out_path / 'scatter_b.tiff', b)\n",
    "    iio.imwrite(out_path / 'thb.tiff', thb)\n",
    "    iio.imwrite(out_path / 'so2.tiff', so2)\n",
    "    iio.imwrite(out_path / 'mask.tiff', mask)\n",
    "    iio.imwrite(out_path / 'hsdfm_chi_sq.tiff', chi_sq)\n",
    "\n",
    "df = pd.DataFrame(output, columns=['Animal', 'Date', 'Oxygen', 'FOV', 'Polarization', 'Mean Scatter A', 'Mean Scatter B', 'Mean THb', 'Mean sO2', 'Full data path'])\n",
    "df.to_csv(processed / 'hsdfm_output.csv')"
   ],
   "id": "186d83e26783c5ef",
   "outputs": [
    {
     "name": "stderr",
     "output_type": "stream",
     "text": [
      "  0%|          | 0/120 [00:00<?, ?it/s]"
     ]
    },
    {
     "data": {
      "text/plain": [
       "  0%|          | 0/192 [00:00<?, ?it/s]"
      ],
      "application/vnd.jupyter.widget-view+json": {
       "version_major": 2,
       "version_minor": 0,
       "model_id": "7ea39998bc2e4cc0b2b4e4c01175ef1a"
      }
     },
     "metadata": {},
     "output_type": "display_data"
    },
    {
     "data": {
      "text/plain": [
       "  0%|          | 0/16384 [00:00<?, ?it/s]"
      ],
      "application/vnd.jupyter.widget-view+json": {
       "version_major": 2,
       "version_minor": 0,
       "model_id": "71c6333bb69a403a8f1f727d4ce10718"
      }
     },
     "metadata": {},
     "output_type": "display_data"
    },
    {
     "name": "stderr",
     "output_type": "stream",
     "text": [
      "C:\\Users\\jdivers\\PycharmProjects\\photon_canon\\src\\photon_canon\\contrib\\bio.py:162: UserWarning: Optimal parameters not found: The maximum number of function evaluations is exceeded.\n",
      "  warnings.warn(str(e))\n",
      "C:\\Users\\jdivers\\AppData\\Local\\Temp\\ipykernel_180284\\777777741.py:48: RuntimeWarning: Degrees of freedom <= 0 for slice.\n",
      "  chi_sq = ( 1 / (np.count_nonzero(~np.isnan(hs), axis=0) - 4)) * np.nansum(((hs - r_exp) ** 2) / np.nanvar(hs, axis=0, keepdims=True), axis=0)\n",
      "  0%|          | 0/120 [30:50<?, ?it/s]\n"
     ]
    },
    {
     "ename": "IndexError",
     "evalue": "index 255 is out of bounds for axis 0 with size 128",
     "output_type": "error",
     "traceback": [
      "\u001B[1;31m---------------------------------------------------------------------------\u001B[0m",
      "\u001B[1;31mIndexError\u001B[0m                                Traceback (most recent call last)",
      "Cell \u001B[1;32mIn[80], line 52\u001B[0m\n\u001B[0;32m     48\u001B[0m chi_sq \u001B[38;5;241m=\u001B[39m ( \u001B[38;5;241m1\u001B[39m \u001B[38;5;241m/\u001B[39m (np\u001B[38;5;241m.\u001B[39mcount_nonzero(\u001B[38;5;241m~\u001B[39mnp\u001B[38;5;241m.\u001B[39misnan(hs), axis\u001B[38;5;241m=\u001B[39m\u001B[38;5;241m0\u001B[39m) \u001B[38;5;241m-\u001B[39m \u001B[38;5;241m4\u001B[39m)) \u001B[38;5;241m*\u001B[39m np\u001B[38;5;241m.\u001B[39mnansum(((hs \u001B[38;5;241m-\u001B[39m r_exp) \u001B[38;5;241m*\u001B[39m\u001B[38;5;241m*\u001B[39m \u001B[38;5;241m2\u001B[39m) \u001B[38;5;241m/\u001B[39m np\u001B[38;5;241m.\u001B[39mnanvar(hs, axis\u001B[38;5;241m=\u001B[39m\u001B[38;5;241m0\u001B[39m, keepdims\u001B[38;5;241m=\u001B[39m\u001B[38;5;28;01mTrue\u001B[39;00m), axis\u001B[38;5;241m=\u001B[39m\u001B[38;5;241m0\u001B[39m)\n\u001B[0;32m     50\u001B[0m \u001B[38;5;66;03m# Update output\u001B[39;00m\n\u001B[0;32m     51\u001B[0m output\u001B[38;5;241m.\u001B[39mappend([animal, date, oxygen, fov, polarization,\n\u001B[1;32m---> 52\u001B[0m                np\u001B[38;5;241m.\u001B[39mmean(\u001B[43ma\u001B[49m\u001B[43m[\u001B[49m\u001B[43mmask\u001B[49m\u001B[43m]\u001B[49m), np\u001B[38;5;241m.\u001B[39mmean(b[mask]), np\u001B[38;5;241m.\u001B[39mmean(thb[mask]), np\u001B[38;5;241m.\u001B[39mmean(so2[mask]), \u001B[38;5;28mstr\u001B[39m(cycle)\n\u001B[0;32m     53\u001B[0m                ])\n\u001B[0;32m     55\u001B[0m out_path \u001B[38;5;241m=\u001B[39m Path(animal, oxygen, fov, \u001B[38;5;124mf\u001B[39m\u001B[38;5;124m'\u001B[39m\u001B[38;5;132;01m{\u001B[39;00m\u001B[38;5;124m'\u001B[39m\u001B[38;5;124mpolarized\u001B[39m\u001B[38;5;124m'\u001B[39m\u001B[38;5;250m \u001B[39m\u001B[38;5;28;01mif\u001B[39;00m\u001B[38;5;250m \u001B[39mpolarization\u001B[38;5;250m \u001B[39m\u001B[38;5;28;01melse\u001B[39;00m\u001B[38;5;250m \u001B[39m\u001B[38;5;124m'\u001B[39m\u001B[38;5;124mnonpolarized\u001B[39m\u001B[38;5;124m'\u001B[39m\u001B[38;5;132;01m}\u001B[39;00m\u001B[38;5;124m'\u001B[39m)\n\u001B[0;32m     56\u001B[0m iio\u001B[38;5;241m.\u001B[39mimwrite(out_path \u001B[38;5;241m/\u001B[39m \u001B[38;5;124m'\u001B[39m\u001B[38;5;124mscatter_a.tiff\u001B[39m\u001B[38;5;124m'\u001B[39m, a)\n",
      "\u001B[1;31mIndexError\u001B[0m: index 255 is out of bounds for axis 0 with size 128"
     ]
    }
   ],
   "execution_count": 80
  },
  {
   "metadata": {},
   "cell_type": "code",
   "outputs": [],
   "execution_count": null,
   "source": "",
   "id": "ca3a705a951594bc"
  }
 ],
 "metadata": {
  "kernelspec": {
   "display_name": "Python 3",
   "language": "python",
   "name": "python3"
  },
  "language_info": {
   "codemirror_mode": {
    "name": "ipython",
    "version": 2
   },
   "file_extension": ".py",
   "mimetype": "text/x-python",
   "name": "python",
   "nbconvert_exporter": "python",
   "pygments_lexer": "ipython2",
   "version": "2.7.6"
  }
 },
 "nbformat": 4,
 "nbformat_minor": 5
}
