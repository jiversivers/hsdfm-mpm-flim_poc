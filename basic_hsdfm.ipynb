{
 "cells": [
  {
   "cell_type": "code",
   "id": "initial_id",
   "metadata": {
    "collapsed": true,
    "ExecuteTime": {
     "end_time": "2025-05-06T05:47:45.163825Z",
     "start_time": "2025-05-06T05:47:43.013167Z"
    }
   },
   "source": [
    "import numpy as np\n",
    "import tqdm\n",
    "from hsdfmpm.hsdfm.utils import find_cycles, gabor_filter_bank, leastsq_reflectance, mask_by_k_clustering\n",
    "from hsdfmpm.utils import apply_kernel_bank\n",
    "import pandas as pd\n",
    "from hsdfmpm.hsdfm import HyperspectralImage, MergedHyperspectralImage\n",
    "from pathlib import Path\n",
    "\n",
    "from photon_canon.contrib.bio import hemoglobin_mus\n",
    "from photon_canon.lut import LUT\n",
    "from photon_canon.contrib.bio import wl, eps\n",
    "import cv2\n",
    "import imageio.v3 as iio\n",
    "from datetime import datetime, timedelta\n",
    "import warnings"
   ],
   "outputs": [],
   "execution_count": 1
  },
  {
   "metadata": {},
   "cell_type": "markdown",
   "source": [
    "# HSDFM Processing\n",
    "1. Load images and metadata\n",
    "2. Normalize to integration time\n",
    "3. Normalize to standard and background\n",
    "4. Perform least-squares fit\n",
    "5. Apply Gabor filter\n",
    "6. Apply adaptive threshold to acquire mask\n",
    "7. Apply mask to hyperstack\n",
    "8. Fit masked hyperstack with MCLUT"
   ],
   "id": "bcacc6c8297a8e43"
  },
  {
   "metadata": {
    "ExecuteTime": {
     "end_time": "2025-05-06T03:34:45.875086Z",
     "start_time": "2025-05-06T03:34:15.999055Z"
    }
   },
   "cell_type": "code",
   "source": [
    "# Dir stuff\n",
    "root = r'E:\\new df\\POC Study'\n",
    "processed = Path(root, 'Processed')\n",
    "processed.mkdir(exist_ok=True)\n",
    "\n",
    "# Find raw data\n",
    "cycles = find_cycles(root)\n",
    "\n",
    "# Load normalization data\n",
    "standard_paths = find_cycles(r'E:\\new df\\POC Study\\Standards')\n",
    "background = MergedHyperspectralImage(image_paths=find_cycles(r'E:\\new df\\POC Study\\Background\\dark_04282025'))\n",
    "background.normalize()"
   ],
   "id": "8935a156d48c99e2",
   "outputs": [
    {
     "data": {
      "text/plain": [
       "[None, None, None]"
      ]
     },
     "execution_count": 2,
     "metadata": {},
     "output_type": "execute_result"
    }
   ],
   "execution_count": 2
  },
  {
   "metadata": {
    "ExecuteTime": {
     "end_time": "2025-05-06T03:34:47.018654Z",
     "start_time": "2025-05-06T03:34:47.015136Z"
    }
   },
   "cell_type": "code",
   "source": [
    "def parse_categorical(cycle):\n",
    "    # Prepare categorical data\n",
    "    animal = cycle.parts[4]\n",
    "    date = datetime.strptime(cycle.parts[5], '%m%d%Y')\n",
    "    oxygen = cycle.parts[6]\n",
    "    fov_polarization = cycle.parts[7].split('_')\n",
    "    if len(fov_polarization) == 1:\n",
    "        fov = fov_polarization[0]\n",
    "        polarized = False\n",
    "    else:\n",
    "        fov = fov_polarization[0]\n",
    "        polarized = fov_polarization[1] == 'polarized'\n",
    "    return animal, date, oxygen, fov, polarized"
   ],
   "id": "85d60611c3a94595",
   "outputs": [],
   "execution_count": 3
  },
  {
   "metadata": {
    "ExecuteTime": {
     "end_time": "2025-05-06T03:34:47.987015Z",
     "start_time": "2025-05-06T03:34:47.983618Z"
    }
   },
   "cell_type": "code",
   "source": [
    "def find_dated_dir(date, paths):\n",
    "    matches = []\n",
    "    for path in paths:\n",
    "        if date.strftime('%m%d%Y') in str(path):\n",
    "            matches.append(path)\n",
    "    if not matches:\n",
    "        warnings.warn(f'No paths found for date {date}. Auto-incrementing ahead one day', category=RuntimeWarning, stacklevel=2)\n",
    "        date += timedelta(days=1)\n",
    "        return find_dated_dir(date, paths)\n",
    "    return matches"
   ],
   "id": "c7131f441b35e01b",
   "outputs": [],
   "execution_count": 4
  },
  {
   "metadata": {
    "ExecuteTime": {
     "end_time": "2025-05-06T03:34:48.990767Z",
     "start_time": "2025-05-06T03:34:48.986403Z"
    }
   },
   "cell_type": "code",
   "source": [
    "lut = LUT(dimensions=['mu_s', 'mu_a'], scale=50000)\n",
    "def model(wavelength, a, b, t, s):\n",
    "    mu_s, mu_a, _ = hemoglobin_mus(a, b, t, s, wavelength)\n",
    "    r = lut(mu_s, mu_a, extrapolate=True)\n",
    "    return r"
   ],
   "id": "4e96ee10540d9fb7",
   "outputs": [],
   "execution_count": 5
  },
  {
   "metadata": {
    "ExecuteTime": {
     "end_time": "2025-05-06T03:50:15.404086Z",
     "start_time": "2025-05-06T03:49:55.433649Z"
    }
   },
   "cell_type": "code",
   "source": [
    "# Prep reusable parts\n",
    "f = np.geomspace(0.01, 1, 16)\n",
    "gabor_bank = gabor_filter_bank(frequency=f, sigma_x=4/f, sigma_y=1/f)\n",
    "\n",
    "output = []\n",
    "\n",
    "for cycle in tqdm.tqdm(cycles):\n",
    "    # Parse categorical data\n",
    "    animal, date, oxygen, fov, polarization = parse_categorical(cycle)\n",
    "\n",
    "    # Load standard\n",
    "    standard_path = find_dated_dir(date, standard_paths)\n",
    "    if polarization:\n",
    "        standard_path = [path for path in standard_path if 'polar' in path]\n",
    "    else:\n",
    "        standard_path = [path for path in standard_path if 'polar' not in path]\n",
    "    standard = MergedHyperspectralImage(image_paths=find_dated_dir(date, standard_paths))\n",
    "    standard.normalize()\n",
    "\n",
    "    # Load cycle\n",
    "    hs = HyperspectralImage(image_path=cycle, standard=standard, background=background)\n",
    "\n",
    "    # Normalize (automatically normalizes to integration time then the standard/background\n",
    "    hs.normalize()\n",
    "\n",
    "    # Resize to 256x256\n",
    "    hs.bin(bin_factor=2048 // 256)\n",
    "\n",
    "\n",
    "    # Get variables for naive fit\n",
    "    selected = np.isin(wl, hs.metadata['Wavelength'])\n",
    "    e = np.log(10) * eps[:, selected] / 64500\n",
    "\n",
    "    # Fit the image with naive lsq and apply gabor bank\n",
    "    naive_fit = leastsq_reflectance(hs.image, e)\n",
    "    hb_index = naive_fit[0] + naive_fit[1]\n",
    "    gabor_response = apply_kernel_bank(hb_index, gabor_bank)\n",
    "\n",
    "    # Create and mask\n",
    "    mask = cv2.adaptiveThreshold((gabor_response / gabor_response.max() * 255).astype(np.uint8), 255, cv2.ADAPTIVE_THRESH_MEAN_C, cv2.THRESH_BINARY, 15, 0)\n",
    "    hs.apply_mask(mask)\n",
    "\n",
    "    # Fit image\n",
    "    popt, mask, chi_sq  = hs.fit(model, guess=[1, 1, 1, 1], bounds=[(0, 0, 0, 0), (np.inf, np.inf, np.inf, 1)])\n",
    "    a, b, thb, so2 = popt\n",
    "\n",
    "    # Update output\n",
    "    output.append([animal, date, oxygen, fov, polarization, np.mean(a[mask]), np.mean(b[mask]), np.mean(thb[mask]), np.mean(so2[mask])])\n",
    "\n",
    "    out_path = Path(animal, oxygen, fov, f'{'polarized' if polarization else 'nonpolarized'}')\n",
    "    iio.imwrite(out_path / 'scatter_a.tiff', a)\n",
    "    iio.imwrite(out_path / 'scatter_b.tiff', b)\n",
    "    iio.imwrite(out_path / 'thb.tiff', thb)\n",
    "    iio.imwrite(out_path / 'so2.tiff', so2)\n",
    "    iio.imwrite(out_path / 'mask.tiff', mask)\n",
    "    iio.imwrite(out_path / 'hsdfm_chi_sq.tiff', chi_sq)\n",
    "\n",
    "df = pd.DataFrame(output, columns=['Animal', 'Date', 'Oxygen', 'FOV', 'Polarization', 'Mean THb', 'Mean sO2'])\n",
    "df.to_csv(processed / 'hsdfm_output.csv')"
   ],
   "id": "186d83e26783c5ef",
   "outputs": [
    {
     "data": {
      "text/plain": [
       "  0%|          | 0/192 [00:00<?, ?it/s]"
      ],
      "application/vnd.jupyter.widget-view+json": {
       "version_major": 2,
       "version_minor": 0,
       "model_id": "550001504f834eac9776f21a562437b3"
      }
     },
     "metadata": {},
     "output_type": "display_data"
    },
    {
     "ename": "TypeError",
     "evalue": "unhashable type: 'HyperspectralImage'",
     "output_type": "error",
     "traceback": [
      "\u001B[1;31m---------------------------------------------------------------------------\u001B[0m",
      "\u001B[1;31mTypeError\u001B[0m                                 Traceback (most recent call last)",
      "Cell \u001B[1;32mIn[8], line 39\u001B[0m\n\u001B[0;32m     36\u001B[0m hs\u001B[38;5;241m.\u001B[39mapply_mask(mask)\n\u001B[0;32m     38\u001B[0m \u001B[38;5;66;03m# Fit image\u001B[39;00m\n\u001B[1;32m---> 39\u001B[0m popt, _ \u001B[38;5;241m=\u001B[39m \u001B[43mhs\u001B[49m\u001B[38;5;241;43m.\u001B[39;49m\u001B[43mfit\u001B[49m\u001B[43m(\u001B[49m\u001B[43mmodel\u001B[49m\u001B[43m,\u001B[49m\u001B[43m \u001B[49m\u001B[43mguess\u001B[49m\u001B[38;5;241;43m=\u001B[39;49m\u001B[43m[\u001B[49m\u001B[38;5;241;43m1\u001B[39;49m\u001B[43m,\u001B[49m\u001B[43m \u001B[49m\u001B[38;5;241;43m1\u001B[39;49m\u001B[43m,\u001B[49m\u001B[43m \u001B[49m\u001B[38;5;241;43m1\u001B[39;49m\u001B[43m,\u001B[49m\u001B[43m \u001B[49m\u001B[38;5;241;43m1\u001B[39;49m\u001B[43m]\u001B[49m\u001B[43m,\u001B[49m\u001B[43m \u001B[49m\u001B[43mbounds\u001B[49m\u001B[38;5;241;43m=\u001B[39;49m\u001B[43m[\u001B[49m\u001B[43m(\u001B[49m\u001B[38;5;241;43m0\u001B[39;49m\u001B[43m,\u001B[49m\u001B[43m \u001B[49m\u001B[38;5;241;43m0\u001B[39;49m\u001B[43m,\u001B[49m\u001B[43m \u001B[49m\u001B[38;5;241;43m0\u001B[39;49m\u001B[43m,\u001B[49m\u001B[43m \u001B[49m\u001B[38;5;241;43m0\u001B[39;49m\u001B[43m)\u001B[49m\u001B[43m,\u001B[49m\u001B[43m \u001B[49m\u001B[43m(\u001B[49m\u001B[43mnp\u001B[49m\u001B[38;5;241;43m.\u001B[39;49m\u001B[43minf\u001B[49m\u001B[43m,\u001B[49m\u001B[43m \u001B[49m\u001B[43mnp\u001B[49m\u001B[38;5;241;43m.\u001B[39;49m\u001B[43minf\u001B[49m\u001B[43m,\u001B[49m\u001B[43m \u001B[49m\u001B[43mnp\u001B[49m\u001B[38;5;241;43m.\u001B[39;49m\u001B[43minf\u001B[49m\u001B[43m,\u001B[49m\u001B[43m \u001B[49m\u001B[38;5;241;43m1\u001B[39;49m\u001B[43m)\u001B[49m\u001B[43m]\u001B[49m\u001B[43m)\u001B[49m\n\u001B[0;32m     40\u001B[0m a, b, thb, so2 \u001B[38;5;241m=\u001B[39m popt\n\u001B[0;32m     42\u001B[0m \u001B[38;5;66;03m# Update output\u001B[39;00m\n",
      "\u001B[1;31mTypeError\u001B[0m: unhashable type: 'HyperspectralImage'"
     ]
    }
   ],
   "execution_count": 8
  }
 ],
 "metadata": {
  "kernelspec": {
   "display_name": "Python 3",
   "language": "python",
   "name": "python3"
  },
  "language_info": {
   "codemirror_mode": {
    "name": "ipython",
    "version": 2
   },
   "file_extension": ".py",
   "mimetype": "text/x-python",
   "name": "python",
   "nbconvert_exporter": "python",
   "pygments_lexer": "ipython2",
   "version": "2.7.6"
  }
 },
 "nbformat": 4,
 "nbformat_minor": 5
}
