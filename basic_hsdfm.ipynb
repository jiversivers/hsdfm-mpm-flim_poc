{
 "cells": [
  {
   "cell_type": "code",
   "id": "initial_id",
   "metadata": {
    "collapsed": true,
    "ExecuteTime": {
     "end_time": "2025-05-06T16:56:09.831846Z",
     "start_time": "2025-05-06T16:56:09.827824Z"
    }
   },
   "source": [
    "import matplotlib.pyplot as plt\n",
    "import numpy as np\n",
    "import tqdm\n",
    "from hsdfmpm.hsdfm.utils import find_cycles, gabor_filter_bank, leastsq_reflectance\n",
    "from hsdfmpm.utils import apply_kernel_bank\n",
    "import pandas as pd\n",
    "from hsdfmpm.hsdfm import HyperspectralImage, MergedHyperspectralImage\n",
    "from pathlib import Path\n",
    "\n",
    "from photon_canon.contrib.bio import hemoglobin_mus, fit_hemoglobin_model\n",
    "from photon_canon.lut import LUT\n",
    "from photon_canon.contrib.bio import wl, eps\n",
    "import cv2\n",
    "import imageio.v3 as iio\n",
    "from datetime import datetime, timedelta\n",
    "import warnings"
   ],
   "outputs": [],
   "execution_count": 7
  },
  {
   "metadata": {},
   "cell_type": "markdown",
   "source": [
    "# HSDFM Processing\n",
    "1. Load images and metadata\n",
    "2. Select out wavelengths for fit\n",
    "3. Normalize to integration time\n",
    "4. Normalize to standard and background\n",
    "5. Perform least-squares fit\n",
    "6. Apply Gabor filter\n",
    "7. Apply adaptive threshold to acquire mask\n",
    "8. Apply mask to hyperstack\n",
    "9. Fit masked hyperstack with MCLUT"
   ],
   "id": "bcacc6c8297a8e43"
  },
  {
   "metadata": {
    "ExecuteTime": {
     "end_time": "2025-05-06T16:58:06.096381Z",
     "start_time": "2025-05-06T16:56:09.838082Z"
    }
   },
   "cell_type": "code",
   "source": [
    "# Dir stuff\n",
    "root = Path(r'E:\\new df\\POC Study')\n",
    "processed = root / 'Processed'\n",
    "processed.mkdir(exist_ok=True)\n",
    "\n",
    "# Find raw data\n",
    "cycles = find_cycles(root / 'Animals')\n",
    "\n",
    "# Choose fitting wavelengths\n",
    "wavelengths = np.arange(500, 610, 10)\n",
    "\n",
    "# Load normalization data\n",
    "standard_paths = find_cycles(root / 'Standards')\n",
    "background = MergedHyperspectralImage(image_paths=find_cycles(root / 'Background' / 'dark_04282025'), wavelengths=wavelengths)\n",
    "background.normalize()"
   ],
   "id": "8935a156d48c99e2",
   "outputs": [
    {
     "data": {
      "text/plain": [
       "[None, None, None]"
      ]
     },
     "execution_count": 8,
     "metadata": {},
     "output_type": "execute_result"
    }
   ],
   "execution_count": 8
  },
  {
   "metadata": {
    "ExecuteTime": {
     "end_time": "2025-05-06T16:58:10.895613Z",
     "start_time": "2025-05-06T16:58:10.889399Z"
    }
   },
   "cell_type": "code",
   "source": [
    "def parse_categorical(cycle):\n",
    "    # Prepare categorical data\n",
    "    animal = cycle.parts[4]\n",
    "    date = datetime.strptime(cycle.parts[5], '%m%d%Y')\n",
    "    oxygen = cycle.parts[6]\n",
    "    fov = cycle.parts[7]\n",
    "    polarized = 'polar' in str(cycle) and not 'unp' in str(cycle)\n",
    "    return animal, date, oxygen, fov, polarized"
   ],
   "id": "85d60611c3a94595",
   "outputs": [],
   "execution_count": 9
  },
  {
   "metadata": {
    "ExecuteTime": {
     "end_time": "2025-05-06T16:58:10.906980Z",
     "start_time": "2025-05-06T16:58:10.904184Z"
    }
   },
   "cell_type": "code",
   "source": [
    "def find_dated_dir(date, paths):\n",
    "    matches = []\n",
    "    for path in paths:\n",
    "        if date.strftime('%m%d%Y') in str(path):\n",
    "            matches.append(path)\n",
    "    if not matches:\n",
    "        warnings.warn(f'No paths found for date {date}. Auto-incrementing ahead one day', category=RuntimeWarning, stacklevel=2)\n",
    "        date += timedelta(days=1)\n",
    "        return find_dated_dir(date, paths)\n",
    "    return matches"
   ],
   "id": "c7131f441b35e01b",
   "outputs": [],
   "execution_count": 10
  },
  {
   "metadata": {
    "ExecuteTime": {
     "end_time": "2025-05-06T16:58:13.168771Z",
     "start_time": "2025-05-06T16:58:13.163846Z"
    }
   },
   "cell_type": "code",
   "source": [
    "lut = LUT(dimensions=['mu_s', 'mu_a'], scale=50000)\n",
    "def model(wavelength, a, b, t, s):\n",
    "    mu_s, mu_a, _ = hemoglobin_mus(a, b, t, s, wavelength)\n",
    "    r = lut(mu_s, mu_a, extrapolate=True)\n",
    "    return r"
   ],
   "id": "4e96ee10540d9fb7",
   "outputs": [],
   "execution_count": 11
  },
  {
   "metadata": {
    "jupyter": {
     "is_executing": true
    },
    "ExecuteTime": {
     "start_time": "2025-05-06T16:58:15.438113Z"
    }
   },
   "cell_type": "code",
   "source": [
    "from matplotlib.colors import Normalize\n",
    "from hsdfmpm.utils import truncate_colormap, colorize\n",
    "\n",
    "# Prep reusable parts\n",
    "f = np.geomspace(0.01, 1, 16)\n",
    "gabor_bank = gabor_filter_bank(frequency=f, sigma_x=4/f, sigma_y=1/f)\n",
    "\n",
    "output = []\n",
    "\n",
    "for cycle in tqdm.tqdm(cycles):\n",
    "    # Parse categorical data\n",
    "    animal, date, oxygen, fov, polarization = parse_categorical(cycle)\n",
    "    out_path = processed / animal / datetime.strftime(date, '%m%d%Y') / oxygen / fov / f'{'polarized' if polarization else 'nonpolarized'}'\n",
    "    out_path.mkdir(exist_ok=True, parents=True)\n",
    "\n",
    "    # Load standard\n",
    "    standard_path = find_dated_dir(date, standard_paths)\n",
    "    if polarization:\n",
    "        standard_path = [path for path in standard_path if 'polar' in str(path)]\n",
    "    else:\n",
    "        standard_path = [path for path in standard_path if 'polar' not in str(path)]\n",
    "    standard = MergedHyperspectralImage(image_paths=find_dated_dir(date, standard_paths), wavelengths=wavelengths, scalar=0.8)\n",
    "    standard.normalize()\n",
    "\n",
    "    # Load cycle\n",
    "    hs = HyperspectralImage(image_path=cycle, wavelengths=wavelengths, standard=standard, background=background)\n",
    "\n",
    "    # Normalize (automatically normalizes to integration time then the standard/background\n",
    "    hs.normalize()\n",
    "\n",
    "    # Resize to 256x256\n",
    "    hs.resize_to(256)\n",
    "\n",
    "    # Get variables for naive fit\n",
    "    selected = np.isin(wl, hs.metadata['Wavelength'])\n",
    "    e = np.log(10) * eps[:, selected] / 64500\n",
    "\n",
    "    # Fit the image with naive lsq and apply gabor bank\n",
    "    naive_fit = leastsq_reflectance(hs.image, e)\n",
    "    hb_index = naive_fit[0] + naive_fit[1]\n",
    "    gabor_response = apply_kernel_bank(hb_index, gabor_bank)\n",
    "\n",
    "    # Create and mask\n",
    "    mask = np.logical_and(\n",
    "        cv2.adaptiveThreshold((255 * gabor_response / gabor_response.max()).astype(np.uint8), 255, cv2.ADAPTIVE_THRESH_MEAN_C, cv2.THRESH_BINARY, 11, 0).astype(bool),\n",
    "        (gabor_response > 1000).astype(bool)\n",
    "    )\n",
    "    mask = mask.astype(bool)\n",
    "    hs.apply_mask(mask)\n",
    "    iio.imwrite(out_path / 'gabor_response.tiff', gabor_response)\n",
    "    iio.imwrite(out_path / 'hb_index.tiff', hb_index)\n",
    "\n",
    "    # Fit image\n",
    "    a, b, thb, so2 = fit_hemoglobin_model(model, hs.metadata['Wavelength'], hs.image, guess=[1, 1, 1, 1], bounds=[(0, 0, 0, 0), (np.inf, np.inf, np.inf, 1)])\n",
    "    r_exp = np.zeros_like(hs.image)\n",
    "    for i in range(hs.image.shape[1]):\n",
    "        for j in range(hs.image.shape[2]):\n",
    "            r_exp[:, i, j] = model(hs.metadata['Wavelength'], a[i, j], b[i, j], thb[i, j], so2[i, j])\n",
    "    chi_sq = ( 1 / (np.count_nonzero(~np.isnan(hs), axis=0) - 4)) * np.nansum(((hs - r_exp) ** 2) / np.nanvar(hs, axis=0, keepdims=True), axis=0)\n",
    "    mask = np.logical(mask, chi_sq < 1.5)\n",
    "\n",
    "    # Create color maps\n",
    "    cmap = truncate_colormap('jet', cmin=0.13, cmax=0.88)\n",
    "    for png_name, im in zip(['a', 'b', 'thb', 'so2'], [a, b, thb, so2]):\n",
    "        im[~mask] = 0\n",
    "        cmin, cmax = np.nanmean(im) + np.array([-2, 2]) * np.nanstd(im)\n",
    "        color_var, cmap = colorize(im, hb_index, cmap=cmap, cmin=cmin, cmax=cmax)\n",
    "        fig = plt.figure(figsize=(10, 10))\n",
    "        plt.imshow(color_var, cmap=cmap)\n",
    "        ax = plt.gca()\n",
    "        ax.set_title(f'{animal} {date} {oxygen} {fov}')\n",
    "        ax.axis('off')\n",
    "        sm = plt.cm.ScalarMappable(norm=Normalize(vmin=cmin, vmax=cmax), cmap=cmap)\n",
    "        plt.colorbar(sm, ax=ax)\n",
    "        plt.tight_layout()\n",
    "        fig.savefig(out_path / f'hsdfm_color_{png_name}.png')\n",
    "        plt.close(fig)\n",
    "\n",
    "    # Update output\n",
    "    output.append([animal, date, oxygen, fov, polarization,\n",
    "                   np.mean(a[mask]), np.mean(b[mask]), np.mean(thb[mask]), np.mean(so2[mask]), str(cycle)\n",
    "                   ])\n",
    "    iio.imwrite(out_path / 'hsdfm_mask.tiff', mask)\n",
    "    iio.imwrite(out_path / 'scatter_a.tiff', a)\n",
    "    iio.imwrite(out_path / 'scatter_b.tiff', b)\n",
    "    iio.imwrite(out_path / 'thb.tiff', thb)\n",
    "    iio.imwrite(out_path / 'so2.tiff', so2)\n",
    "\n",
    "    iio.imwrite(out_path / 'hsdfm_chi_sq.tiff', chi_sq)\n",
    "\n",
    "df = pd.DataFrame(output, columns=['Animal', 'Date', 'Oxygen', 'FOV', 'Polarization', 'Mean Scatter A', 'Mean Scatter B', 'Mean THb', 'Mean sO2', 'Full data path'])\n",
    "df.to_csv(processed / 'hsdfm_output.csv')"
   ],
   "id": "186d83e26783c5ef",
   "outputs": [
    {
     "name": "stderr",
     "output_type": "stream",
     "text": [
      "  0%|          | 0/111 [00:00<?, ?it/s]C:\\Users\\jdivers\\AppData\\Local\\Temp\\ipykernel_178912\\1117315126.py:17: RuntimeWarning: No paths found for date 2025-03-30 00:00:00. Auto-incrementing ahead one day\n",
      "  standard_path = find_dated_dir(date, standard_paths)\n",
      "C:\\Users\\jdivers\\AppData\\Local\\Temp\\ipykernel_178912\\1117315126.py:22: RuntimeWarning: No paths found for date 2025-03-30 00:00:00. Auto-incrementing ahead one day\n",
      "  standard = MergedHyperspectralImage(image_paths=find_dated_dir(date, standard_paths), wavelengths=wavelengths, scalar=0.8)\n"
     ]
    },
    {
     "data": {
      "text/plain": [
       "  0%|          | 0/192 [00:00<?, ?it/s]"
      ],
      "application/vnd.jupyter.widget-view+json": {
       "version_major": 2,
       "version_minor": 0,
       "model_id": "329c3f4f01fd4b7aa6a515c4c600b618"
      }
     },
     "metadata": {},
     "output_type": "display_data"
    },
    {
     "data": {
      "text/plain": [
       "  0%|          | 0/65536 [00:00<?, ?it/s]"
      ],
      "application/vnd.jupyter.widget-view+json": {
       "version_major": 2,
       "version_minor": 0,
       "model_id": "80473bfdd3e246e98a171bb719cd93fc"
      }
     },
     "metadata": {},
     "output_type": "display_data"
    }
   ],
   "execution_count": null
  }
 ],
 "metadata": {
  "kernelspec": {
   "display_name": "Python 3",
   "language": "python",
   "name": "python3"
  },
  "language_info": {
   "codemirror_mode": {
    "name": "ipython",
    "version": 2
   },
   "file_extension": ".py",
   "mimetype": "text/x-python",
   "name": "python",
   "nbconvert_exporter": "python",
   "pygments_lexer": "ipython2",
   "version": "2.7.6"
  }
 },
 "nbformat": 4,
 "nbformat_minor": 5
}
